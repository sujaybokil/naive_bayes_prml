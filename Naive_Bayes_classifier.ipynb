{
  "nbformat": 4,
  "nbformat_minor": 0,
  "metadata": {
    "colab": {
      "name": "Bayes_Q1.ipynb",
      "provenance": [],
      "toc_visible": true
    },
    "kernelspec": {
      "name": "python3",
      "display_name": "Python 3"
    },
    "accelerator": "GPU"
  },
  "cells": [
    {
      "cell_type": "code",
      "metadata": {
        "id": "95tludE6oXVy",
        "colab_type": "code",
        "colab": {}
      },
      "source": [
        "import numpy as np\n",
        "import pandas as pd\n",
        "import matplotlib.pyplot as plt \n",
        "import math\n",
        "from sklearn.model_selection import train_test_split\n",
        "from mpl_toolkits import mplot3d\n",
        "from sklearn.metrics import accuracy_score, confusion_matrix, mean_squared_error, plot_confusion_matrix\n",
        "from matplotlib.colors import ListedColormap\n",
        "import seaborn as sns"
      ],
      "execution_count": null,
      "outputs": []
    },
    {
      "cell_type": "markdown",
      "metadata": {
        "id": "HjLDYMM5871O",
        "colab_type": "text"
      },
      "source": [
        " SETTING UP THE FIRST DATASET\n",
        "\n"
      ]
    },
    {
      "cell_type": "code",
      "metadata": {
        "id": "hlr0d1umpVRI",
        "colab_type": "code",
        "colab": {}
      },
      "source": [
        "df = pd.read_csv('/content/drive/My Drive/Data_Science/PRML Assignment 1/Dataset_1_Team_1.csv')"
      ],
      "execution_count": null,
      "outputs": []
    },
    {
      "cell_type": "code",
      "metadata": {
        "id": "N4Bij1AlpmCm",
        "colab_type": "code",
        "colab": {
          "base_uri": "https://localhost:8080/",
          "height": 34
        },
        "outputId": "314bbe2d-276c-41e7-fb8a-a4b2a6cd4894"
      },
      "source": [
        "df.shape"
      ],
      "execution_count": null,
      "outputs": [
        {
          "output_type": "execute_result",
          "data": {
            "text/plain": [
              "(4500, 3)"
            ]
          },
          "metadata": {
            "tags": []
          },
          "execution_count": 3
        }
      ]
    },
    {
      "cell_type": "code",
      "metadata": {
        "id": "_p3ymZyipr1Z",
        "colab_type": "code",
        "colab": {
          "base_uri": "https://localhost:8080/",
          "height": 195
        },
        "outputId": "29de3fb5-4f40-4e46-f5aa-46b0a872c9d8"
      },
      "source": [
        "df.head()"
      ],
      "execution_count": null,
      "outputs": [
        {
          "output_type": "execute_result",
          "data": {
            "text/html": [
              "<div>\n",
              "<style scoped>\n",
              "    .dataframe tbody tr th:only-of-type {\n",
              "        vertical-align: middle;\n",
              "    }\n",
              "\n",
              "    .dataframe tbody tr th {\n",
              "        vertical-align: top;\n",
              "    }\n",
              "\n",
              "    .dataframe thead th {\n",
              "        text-align: right;\n",
              "    }\n",
              "</style>\n",
              "<table border=\"1\" class=\"dataframe\">\n",
              "  <thead>\n",
              "    <tr style=\"text-align: right;\">\n",
              "      <th></th>\n",
              "      <th># x_1</th>\n",
              "      <th>x_2</th>\n",
              "      <th>Class_label</th>\n",
              "    </tr>\n",
              "  </thead>\n",
              "  <tbody>\n",
              "    <tr>\n",
              "      <th>0</th>\n",
              "      <td>33.715578</td>\n",
              "      <td>-115.229932</td>\n",
              "      <td>0</td>\n",
              "    </tr>\n",
              "    <tr>\n",
              "      <th>1</th>\n",
              "      <td>28.073168</td>\n",
              "      <td>-162.214820</td>\n",
              "      <td>0</td>\n",
              "    </tr>\n",
              "    <tr>\n",
              "      <th>2</th>\n",
              "      <td>33.106467</td>\n",
              "      <td>101.944282</td>\n",
              "      <td>1</td>\n",
              "    </tr>\n",
              "    <tr>\n",
              "      <th>3</th>\n",
              "      <td>-5.355554</td>\n",
              "      <td>-175.772981</td>\n",
              "      <td>2</td>\n",
              "    </tr>\n",
              "    <tr>\n",
              "      <th>4</th>\n",
              "      <td>33.147877</td>\n",
              "      <td>97.486595</td>\n",
              "      <td>1</td>\n",
              "    </tr>\n",
              "  </tbody>\n",
              "</table>\n",
              "</div>"
            ],
            "text/plain": [
              "       # x_1         x_2  Class_label\n",
              "0  33.715578 -115.229932            0\n",
              "1  28.073168 -162.214820            0\n",
              "2  33.106467  101.944282            1\n",
              "3  -5.355554 -175.772981            2\n",
              "4  33.147877   97.486595            1"
            ]
          },
          "metadata": {
            "tags": []
          },
          "execution_count": 4
        }
      ]
    },
    {
      "cell_type": "code",
      "metadata": {
        "id": "A3NAFytrptFk",
        "colab_type": "code",
        "colab": {
          "base_uri": "https://localhost:8080/",
          "height": 195
        },
        "outputId": "c6fbf051-6dcf-4138-c6cc-d9347b9bf609"
      },
      "source": [
        "df = df.rename( columns = {\"# x_1\": \"x1\",\"x_2\":\"x2\", \"Class_label\": \"Labels\"})\n",
        "df.head()"
      ],
      "execution_count": null,
      "outputs": [
        {
          "output_type": "execute_result",
          "data": {
            "text/html": [
              "<div>\n",
              "<style scoped>\n",
              "    .dataframe tbody tr th:only-of-type {\n",
              "        vertical-align: middle;\n",
              "    }\n",
              "\n",
              "    .dataframe tbody tr th {\n",
              "        vertical-align: top;\n",
              "    }\n",
              "\n",
              "    .dataframe thead th {\n",
              "        text-align: right;\n",
              "    }\n",
              "</style>\n",
              "<table border=\"1\" class=\"dataframe\">\n",
              "  <thead>\n",
              "    <tr style=\"text-align: right;\">\n",
              "      <th></th>\n",
              "      <th>x1</th>\n",
              "      <th>x2</th>\n",
              "      <th>Labels</th>\n",
              "    </tr>\n",
              "  </thead>\n",
              "  <tbody>\n",
              "    <tr>\n",
              "      <th>0</th>\n",
              "      <td>33.715578</td>\n",
              "      <td>-115.229932</td>\n",
              "      <td>0</td>\n",
              "    </tr>\n",
              "    <tr>\n",
              "      <th>1</th>\n",
              "      <td>28.073168</td>\n",
              "      <td>-162.214820</td>\n",
              "      <td>0</td>\n",
              "    </tr>\n",
              "    <tr>\n",
              "      <th>2</th>\n",
              "      <td>33.106467</td>\n",
              "      <td>101.944282</td>\n",
              "      <td>1</td>\n",
              "    </tr>\n",
              "    <tr>\n",
              "      <th>3</th>\n",
              "      <td>-5.355554</td>\n",
              "      <td>-175.772981</td>\n",
              "      <td>2</td>\n",
              "    </tr>\n",
              "    <tr>\n",
              "      <th>4</th>\n",
              "      <td>33.147877</td>\n",
              "      <td>97.486595</td>\n",
              "      <td>1</td>\n",
              "    </tr>\n",
              "  </tbody>\n",
              "</table>\n",
              "</div>"
            ],
            "text/plain": [
              "          x1          x2  Labels\n",
              "0  33.715578 -115.229932       0\n",
              "1  28.073168 -162.214820       0\n",
              "2  33.106467  101.944282       1\n",
              "3  -5.355554 -175.772981       2\n",
              "4  33.147877   97.486595       1"
            ]
          },
          "metadata": {
            "tags": []
          },
          "execution_count": 5
        }
      ]
    },
    {
      "cell_type": "markdown",
      "metadata": {
        "id": "HmQYrQJL8eNG",
        "colab_type": "text"
      },
      "source": [
        "CELL HAVING HELPFUL FUNCTIONS\n"
      ]
    },
    {
      "cell_type": "code",
      "metadata": {
        "id": "CD3u7nVDqAoo",
        "colab_type": "code",
        "colab": {
          "base_uri": "https://localhost:8080/",
          "height": 54
        },
        "outputId": "5aca461b-d3af-40a0-a75c-d3b3e635645f"
      },
      "source": [
        "# For finding priors \n",
        "\n",
        "def find_prior(data,col_name):\n",
        "\n",
        "  Priors = data[col_name].value_counts()/len(data)\n",
        "  return Priors\n",
        "\n",
        "# Calculates the gaussian probabiltity density function\n",
        "\n",
        "class MyClass:\n",
        "\n",
        "  def __init__(self,p=0,MU=np.zeros((2,1)),Cov = np.zeros((2,2))): # defines a gaussian class conditional with a mean and covariance matrix\n",
        "\n",
        "    self.prob = p\n",
        "    self.mean = MU\n",
        "    self.cov_matrix = Cov\n",
        "\n",
        "  def posterior(self,X):      # Calculates posterior probability given an input vector and class\n",
        "\n",
        "    if X.shape != (2,1):\n",
        "\n",
        "      print('Shape of input is invalid!!')\n",
        "\n",
        "    else:\n",
        "\n",
        "\n",
        "      p = self.prob\n",
        "      Mu = self.mean\n",
        "      Cov = self.cov_matrix\n",
        "      InvCov = np.linalg.inv(Cov)\n",
        "      DetCov = abs(np.linalg.det(Cov))\n",
        "\n",
        "      X_mean = np.subtract(X,Mu)\n",
        "      X_meanT = np.transpose(X_mean)\n",
        "\n",
        "      Y = np.dot(X_meanT,InvCov)\n",
        "      Z = np.dot(Y,X_mean)\n",
        "\n",
        "      \n",
        "      return p/math.sqrt(2*math.pi*DetCov)*math.exp(-Z/2)\n",
        "\n",
        "def Risk(X,L,n):\n",
        "\n",
        "  X = X.reshape(2,1)\n",
        "  u = [class_0.posterior(X),class_1.posterior(X),class_2.posterior(X)]\n",
        "  v = L[n][:]\n",
        "  \n",
        "  return np.dot(u,v) \n",
        "\n",
        "def Risk_D2(X,L,n):\n",
        "\n",
        "  X = X.reshape(2,1)\n",
        "  u = [class2_0.posterior(X),class2_1.posterior(X),class2_2.posterior(X)]\n",
        "  v = L[n][:]\n",
        "  \n",
        "  return np.dot(u,v)\n",
        "\n",
        "\n",
        "\n",
        "\"\"\"\n",
        "def plot_decision_boundary(self):\n",
        "  X_set, y_set = self.X_test, self.y_test\n",
        "  X1, X2 = np.meshgrid(np.arange(start = X_set[:, 0].min() - 1, stop = X_set[:, 0].max() + 1, step = 0.1),\n",
        "                        np.arange(start = X_set[:, 1].min() - 1, stop = X_set[:, 1].max() + 1, step = 0.1))\n",
        "  plt.contourf(X1, X2, self.predict(np.array([X1.ravel(), X2.ravel()]).T).reshape(X1.shape), alpha = 0.75, cmap = ListedColormap(('orange', 'green', \"blue\")))\n",
        "  plt.xlim(X1.min(), X1.max())\n",
        "  plt.ylim(X2.min(), X2.max())\n",
        "  for i, j in enumerate(np.unique(y_set)):\n",
        "      plt.scatter(X_set[y_set == j, 0], X_set[y_set == j, 1],c = ListedColormap(('red', 'green', \"blue\"))(i), label = j,marker='.')\n",
        "  plt.title('Naive Bayes Classification our implementation(Test set)')\n",
        "  plt.xlabel('X_1')\n",
        "  plt.ylabel('X_2')\n",
        "  plt.legend()\n",
        "  plt.show()\n",
        "\n",
        "  \"\"\"\n"
      ],
      "execution_count": null,
      "outputs": [
        {
          "output_type": "execute_result",
          "data": {
            "text/plain": [
              "'\\ndef plot_decision_boundary(self):\\n  X_set, y_set = self.X_test, self.y_test\\n  X1, X2 = np.meshgrid(np.arange(start = X_set[:, 0].min() - 1, stop = X_set[:, 0].max() + 1, step = 0.1),\\n                        np.arange(start = X_set[:, 1].min() - 1, stop = X_set[:, 1].max() + 1, step = 0.1))\\n  plt.contourf(X1, X2, self.predict(np.array([X1.ravel(), X2.ravel()]).T).reshape(X1.shape), alpha = 0.75, cmap = ListedColormap((\\'orange\\', \\'green\\', \"blue\")))\\n  plt.xlim(X1.min(), X1.max())\\n  plt.ylim(X2.min(), X2.max())\\n  for i, j in enumerate(np.unique(y_set)):\\n      plt.scatter(X_set[y_set == j, 0], X_set[y_set == j, 1],c = ListedColormap((\\'red\\', \\'green\\', \"blue\"))(i), label = j,marker=\\'.\\')\\n  plt.title(\\'Naive Bayes Classification our implementation(Test set)\\')\\n  plt.xlabel(\\'X_1\\')\\n  plt.ylabel(\\'X_2\\')\\n  plt.legend()\\n  plt.show()\\n\\n  '"
            ]
          },
          "metadata": {
            "tags": []
          },
          "execution_count": 6
        }
      ]
    },
    {
      "cell_type": "markdown",
      "metadata": {
        "id": "eK3OQw989HGw",
        "colab_type": "text"
      },
      "source": [
        "CALCULATIONS AND PROCEDURE\n"
      ]
    },
    {
      "cell_type": "code",
      "metadata": {
        "id": "GYoeLUaT6r4r",
        "colab_type": "code",
        "colab": {
          "base_uri": "https://localhost:8080/",
          "height": 34
        },
        "outputId": "5a41b441-479f-4352-b971-31943a1a2112"
      },
      "source": [
        "# Splitting the data \n",
        "\n",
        "train, test = train_test_split(df,test_size = 0.2, random_state =42)\n",
        "print(train.shape,test.shape)"
      ],
      "execution_count": null,
      "outputs": [
        {
          "output_type": "stream",
          "text": [
            "(3600, 3) (900, 3)\n"
          ],
          "name": "stdout"
        }
      ]
    },
    {
      "cell_type": "code",
      "metadata": {
        "id": "dZw-vvvaqaQz",
        "colab_type": "code",
        "colab": {
          "base_uri": "https://localhost:8080/",
          "height": 101
        },
        "outputId": "199faa75-b1a0-4e4b-bb63-c3a8c367cce9"
      },
      "source": [
        "# calculate priors of all classes\n",
        "\n",
        "Priors = find_prior(train,'Labels')\n",
        "print(Priors)\n",
        "\n",
        "class_0 = MyClass()\n",
        "class_1 = MyClass()\n",
        "class_2 = MyClass()\n",
        " \n",
        "\n",
        "class_0.prob = Priors[0]\n",
        "class_1.prob = Priors[1]\n",
        "class_2.prob = Priors[2]\n",
        "\n",
        "print(Priors[0])"
      ],
      "execution_count": null,
      "outputs": [
        {
          "output_type": "stream",
          "text": [
            "1    0.339167\n",
            "0    0.330833\n",
            "2    0.330000\n",
            "Name: Labels, dtype: float64\n",
            "0.3308333333333333\n"
          ],
          "name": "stdout"
        }
      ]
    },
    {
      "cell_type": "code",
      "metadata": {
        "id": "JcPpcB9rGi_D",
        "colab_type": "code",
        "colab": {
          "base_uri": "https://localhost:8080/",
          "height": 118
        },
        "outputId": "7edfa5ad-e17e-465a-af4f-d75b552b4c99"
      },
      "source": [
        "# Learning from train data\n",
        "# Learning is equivalent to finding ML estimate MU since covariance is already given and we dont need to estimate it\n",
        "\n",
        "# For Class 0\n",
        "\n",
        "c0 = train[train['Labels']==0]\n",
        "c0 = c0.drop(columns=['Labels'])\n",
        "class_0.mean = (np.array(c0.mean())).reshape(2,1)\n",
        "print(class_0.mean)\n",
        "\n",
        "# For Class 1\n",
        "\n",
        "c1 = train[train['Labels']==1]\n",
        "c1 = c1.drop(columns=['Labels'])\n",
        "class_1.mean = (np.array(c1.mean())).reshape(2,1)\n",
        "print(class_1.mean)\n",
        "\n",
        "# For Class 2\n",
        "\n",
        "c2 = train[train['Labels']==2]\n",
        "c2 = c2.drop(columns=['Labels'])\n",
        "class_2.mean = (np.array(c2.mean())).reshape(2,1)\n",
        "print(class_2.mean)"
      ],
      "execution_count": null,
      "outputs": [
        {
          "output_type": "stream",
          "text": [
            "[[  33.34681715]\n",
            " [-158.50857774]]\n",
            "[[33.40005486]\n",
            " [94.92507475]]\n",
            "[[  -4.45194525]\n",
            " [-156.59172162]]\n"
          ],
          "name": "stdout"
        }
      ]
    },
    {
      "cell_type": "code",
      "metadata": {
        "id": "2cLDoixHZg1s",
        "colab_type": "code",
        "colab": {
          "base_uri": "https://localhost:8080/",
          "height": 296
        },
        "outputId": "883280b1-4ee5-4b0e-bb21-602fbe991dbd"
      },
      "source": [
        "# plotting to get a better idea of how classes work\n",
        "plt.figure()\n",
        "ax = plt.axes()\n",
        "\n",
        "plt.xlabel('x_1')\n",
        "plt.ylabel('x_2')\n",
        "\n",
        "x0 = np.array(c0['x1'])\n",
        "y0 = np.array(c0['x2'])\n",
        "p_0 = np.array(c0.mean())\n",
        "\n",
        "x1 = np.array(c1['x1'])\n",
        "y1 = np.array(c1['x2'])\n",
        "p_1 = np.array(c1.mean())\n",
        "\n",
        "x2 = np.array(c2['x1'])\n",
        "y2 = np.array(c2['x2'])\n",
        "p_2 = np.array(c2.mean())\n",
        "\n",
        "\n",
        "\n",
        "ax.scatter(x0,y0,marker = 'o',c='r',label ='Class 0')\n",
        "ax.scatter(x1,y1,marker = 'o',c='g',label ='Class 1')\n",
        "ax.scatter(x2,y2,marker = 'o',c='b',label ='Class 2')\n",
        "ax.legend()\n",
        "plt.title('Eigenvectors')\n",
        "\n",
        "cov_list = [np.cov(c0,rowvar=False),np.cov(c1,rowvar=False),np.cov(c2,rowvar=False)]\n",
        "points = [p_0,p_1,p_2]\n",
        "\n",
        "\n",
        "for i, cov in enumerate(cov_list):\n",
        "\n",
        "  point = points[i]\n",
        "  w, v = np.linalg.eig(cov)\n",
        "  \n",
        "  plt.quiver(*point,*v[:,0],color=['k'])\n",
        "  plt.quiver(*point,*v[:,1],color=['k'])"
      ],
      "execution_count": null,
      "outputs": [
        {
          "output_type": "display_data",
          "data": {
            "image/png": "[encoded data removed]",
            "text/plain": [
              "<Figure size 432x288 with 1 Axes>"
            ]
          },
          "metadata": {
            "tags": []
          }
        }
      ]
    },
    {
      "cell_type": "code",
      "metadata": {
        "id": "E5LQ4vSqG6Wi",
        "colab_type": "code",
        "colab": {}
      },
      "source": [
        "# Case (a)\n",
        "# Cov = I  for all classes\n",
        "\n",
        "Cov_I = np.array([[1,0],[0,1]])\n",
        "\n",
        "def model_1(data,mat_0,mat_1,mat_2):\n",
        "\n",
        "  L = np.array([[0,2,1],[2,0,3],[1,3,0]])\n",
        "\n",
        "  class_0.cov_matrix = mat_0\n",
        "  class_1.cov_matrix = mat_1\n",
        "  class_2.cov_matrix = mat_2\n",
        "\n",
        "  class_group = [class_0,class_1,class_2]\n",
        "\n",
        "  class_labels = []\n",
        "\n",
        "  for index, row in data.iterrows():\n",
        "\n",
        "    X = np.array([[row['x1']],[row['x2']]])\n",
        "\n",
        "    risks = [ Risk(X,L,0), Risk(X,L,1), Risk(X,L,2) ]\n",
        "\n",
        "    class_labels.append(risks.index(min(risks))) \n",
        "\n",
        "  class_labels = pd.Series(class_labels)\n",
        "  \n",
        "  return class_labels\n",
        "\n",
        "output_labels1_train = model_1(train,Cov_I,Cov_I,Cov_I)\n",
        "output_labels1_test  = model_1(test,Cov_I,Cov_I,Cov_I)"
      ],
      "execution_count": null,
      "outputs": []
    },
    {
      "cell_type": "code",
      "metadata": {
        "id": "zwRuf1CBckeR",
        "colab_type": "code",
        "colab": {
          "base_uri": "https://localhost:8080/",
          "height": 202
        },
        "outputId": "959719f6-9195-444f-9381-29b1eb401ebf"
      },
      "source": [
        "# Listing out the performance metrics\n",
        "\n",
        "print('Train Accuracy : ',accuracy_score(train['Labels'],output_labels1_train),'\\n',\n",
        "      'Test Accuracy : ',accuracy_score(test['Labels'],output_labels1_test),'\\n',\n",
        "      'Confusion matrix : \\n', confusion_matrix(test['Labels'],output_labels1_test,normalize='true'))\n",
        "\n",
        "\n",
        "print('\\n\\n')\n",
        "\n",
        "print('Mean Square Error on training data : ', mean_squared_error(train['Labels'],output_labels1_train),'\\n',\n",
        "      'Mean Square Error on testing : ', mean_squared_error(test['Labels'],output_labels1_test)\n",
        "\n",
        "\n",
        ")\n"
      ],
      "execution_count": null,
      "outputs": [
        {
          "output_type": "stream",
          "text": [
            "Train Accuracy :  0.8688888888888889 \n",
            " Test Accuracy :  0.8711111111111111 \n",
            " Confusion matrix : \n",
            " [[0.95932203 0.02033898 0.02033898]\n",
            " [0.25773196 0.73539519 0.00687285]\n",
            " [0.07006369 0.01592357 0.91401274]]\n",
            "\n",
            "\n",
            "\n",
            "Mean Square Error on training data :  0.2127777777777778 \n",
            " Mean Square Error on testing :  0.2222222222222222\n"
          ],
          "name": "stdout"
        }
      ]
    },
    {
      "cell_type": "code",
      "metadata": {
        "id": "1PyOPOKThoJ_",
        "colab_type": "code",
        "colab": {
          "base_uri": "https://localhost:8080/",
          "height": 54
        },
        "outputId": "45dbc52c-a0e8-4c0d-e078-84e7b1a67b4e"
      },
      "source": [
        "\"\"\"\n",
        "# Plotting the classes and decision boundary\n",
        "\n",
        "X_set = np.array(train.drop(columns=['Labels']))\n",
        "y_set = np.array(train['Labels'])\n",
        "\n",
        "X1, X2 = np.meshgrid(np.arange(start = X_set[:, 0].min() - 1, stop = X_set[:, 0].max() + 1, step = 0.5),\n",
        "                        np.arange(start = X_set[:, 1].min() - 1, stop = X_set[:, 1].max() + 1, step = 0.5),)\n",
        "\n",
        "Z = (np.transpose(np.array([np.ravel(X1),np.ravel(X2)])).reshape(X1.shape)\n",
        "\n",
        "print(Z.shape)\n",
        "Z = model_1(Z,Cov_I,Cov_I,Cov_I)\n",
        "print(Z.shape)\n",
        "\n",
        "plt.contourf(X1, X2, Z,alpha = 0.75, cmap = ListedColormap(('orange', 'green', \"blue\")))\n",
        "\"\"\""
      ],
      "execution_count": null,
      "outputs": [
        {
          "output_type": "execute_result",
          "data": {
            "text/plain": [
              "'\\n# Plotting the classes and decision boundary\\n\\nX_set = np.array(train.drop(columns=[\\'Labels\\']))\\ny_set = np.array(train[\\'Labels\\'])\\n\\nX1, X2 = np.meshgrid(np.arange(start = X_set[:, 0].min() - 1, stop = X_set[:, 0].max() + 1, step = 0.5),\\n                        np.arange(start = X_set[:, 1].min() - 1, stop = X_set[:, 1].max() + 1, step = 0.5),)\\n\\nZ = (np.transpose(np.array([np.ravel(X1),np.ravel(X2)])).reshape(X1.shape)\\n\\nprint(Z.shape)\\nZ = model_1(Z,Cov_I,Cov_I,Cov_I)\\nprint(Z.shape)\\n\\nplt.contourf(X1, X2, Z,alpha = 0.75, cmap = ListedColormap((\\'orange\\', \\'green\\', \"blue\")))\\n'"
            ]
          },
          "metadata": {
            "tags": []
          },
          "execution_count": 13
        }
      ]
    },
    {
      "cell_type": "code",
      "metadata": {
        "colab_type": "code",
        "id": "pAIATtOFQoRW",
        "colab": {}
      },
      "source": [
        "# Case (b)\n",
        "# Cov is same  for all classes\n",
        "# We take the whole dataset into account irrespective of the classes to calculate the covariance matrix\n",
        "# We only consider the variance of respective elements since Naive-bayes demands conditional independence which means uncorrelated in case of Gaussian\n",
        "# So cross-terms in the matrix have to be zero\n",
        "\n",
        "X_input = np.array(train.drop(columns=['Labels']))\n",
        "\n",
        "Cov_same = np.cov(X_input,rowvar= False)\n",
        "Cov_same_diag = np.diag(np.diag(Cov_same))\n",
        "\n",
        "def model_2(data,mat_0,mat_1,mat_2): \n",
        "\n",
        "  L = np.array([[0,2,1],[2,0,3],[1,3,0]])\n",
        "\n",
        "  class_0.cov_matrix = mat_0\n",
        "  class_1.cov_matrix = mat_1\n",
        "  class_2.cov_matrix = mat_2\n",
        "\n",
        "  class_group = [class_0,class_1,class_2]\n",
        "\n",
        "  class_labels = []\n",
        "\n",
        "  for index, row in data.iterrows():\n",
        "\n",
        "    X = np.array([[row['x1']],[row['x2']]])\n",
        "\n",
        "    risks = [ Risk(X,L,0), Risk(X,L,1), Risk(X,L,2) ]\n",
        "\n",
        "    class_labels.append(risks.index(min(risks))) \n",
        "\n",
        "  class_labels = pd.Series(class_labels)\n",
        "  \n",
        "  return class_labels\n",
        "\n",
        "output_labels2_train = model_2(train,Cov_same_diag,Cov_same_diag,Cov_same_diag)\n",
        "output_labels2_test  = model_2(test,Cov_same_diag,Cov_same_diag,Cov_same_diag)"
      ],
      "execution_count": null,
      "outputs": []
    },
    {
      "cell_type": "code",
      "metadata": {
        "colab_type": "code",
        "id": "8RJcqGpwrubl",
        "colab": {
          "base_uri": "https://localhost:8080/",
          "height": 202
        },
        "outputId": "8d6d7133-e55c-4288-a7be-70a53f855b38"
      },
      "source": [
        "# Listing out the performance metrics\n",
        "\n",
        "print('Train Accuracy : ',accuracy_score(train['Labels'],output_labels2_train),'\\n',\n",
        "      'Test Accuracy : ',accuracy_score(test['Labels'],output_labels2_test),'\\n',\n",
        "      'Confusion matrix : \\n', confusion_matrix(test['Labels'],output_labels2_test,normalize='true'))\n",
        "\n",
        "print('\\n\\n')\n",
        "\n",
        "print('Mean Square Error on training data : ', mean_squared_error(train['Labels'],output_labels2_train),'\\n',\n",
        "      'Mean Square Error on testing : ', mean_squared_error(test['Labels'],output_labels2_test)\n",
        "\n",
        "\n",
        ")\n"
      ],
      "execution_count": null,
      "outputs": [
        {
          "output_type": "stream",
          "text": [
            "Train Accuracy :  0.9652777777777778 \n",
            " Test Accuracy :  0.9677777777777777 \n",
            " Confusion matrix : \n",
            " [[0.9559322  0.02372881 0.02033898]\n",
            " [0.0137457  0.97594502 0.01030928]\n",
            " [0.00955414 0.01910828 0.97133758]]\n",
            "\n",
            "\n",
            "\n",
            "Mean Square Error on training data :  0.06888888888888889 \n",
            " Mean Square Error on testing :  0.06222222222222222\n"
          ],
          "name": "stdout"
        }
      ]
    },
    {
      "cell_type": "code",
      "metadata": {
        "colab_type": "code",
        "id": "zEgS0u3gTFwg",
        "colab": {}
      },
      "source": [
        "# Case (c) \n",
        "# Covariance different for all classes\n",
        "# We only consider the variance of respective elements since Naive-bayes demands conditional independence which means uncorrelated in case of Gaussian\n",
        "# So cross-terms in the matrix have to be zero\n",
        "m0 = np.diag(np.diag(np.cov(c0, rowvar=False)))\n",
        "m1 = np.diag(np.diag(np.cov(c1,rowvar=False)))\n",
        "m2 = np.diag(np.diag(np.cov(c2,rowvar=False)))\n",
        "\n",
        "def model_3(data,mat_0,mat_1,mat_2): \n",
        "\n",
        "  L = np.array([[0,2,1],[2,0,3],[1,3,0]])\n",
        "\n",
        "  class_0.cov_matrix = mat_0\n",
        "  class_1.cov_matrix = mat_1\n",
        "  class_2.cov_matrix = mat_2 \n",
        "\n",
        "  class_group = [class_0,class_1,class_2]\n",
        "\n",
        "  class_labels = []\n",
        "\n",
        "  for index, row in data.iterrows():\n",
        "\n",
        "    X = np.array([[row['x1']],[row['x2']]])\n",
        "\n",
        "    risks = [ Risk(X,L,0), Risk(X,L,1), Risk(X,L,2) ]\n",
        "\n",
        "    class_labels.append(risks.index(min(risks))) \n",
        "\n",
        "  class_labels = pd.Series(class_labels)\n",
        "  \n",
        "  return class_labels\n",
        "\n",
        "output_labels3_train = model_3(train,m0,m1,m2)\n",
        "output_labels3_test  = model_3(test,m0,m1,m2)\n"
      ],
      "execution_count": null,
      "outputs": []
    },
    {
      "cell_type": "code",
      "metadata": {
        "id": "ZhG2NeNmsgBe",
        "colab_type": "code",
        "colab": {
          "base_uri": "https://localhost:8080/",
          "height": 482
        },
        "outputId": "5fd38a07-26af-4f51-8a65-47872d9ef003"
      },
      "source": [
        "# Listing out the performance metrics\n",
        "\n",
        "print('Train Accuracy : ',accuracy_score(train['Labels'],output_labels3_train),'\\n',\n",
        "      'Test Accuracy : ',accuracy_score(test['Labels'],output_labels3_test),'\\n',\n",
        "      'Confusion matrix : \\n', confusion_matrix(test['Labels'],output_labels3_test,normalize='all'))\n",
        "\n",
        "print('\\n\\n')\n",
        "\n",
        "print('Mean Square Error on training data : ', mean_squared_error(train['Labels'],output_labels3_train),'\\n',\n",
        "      'Mean Square Error on testing : ', mean_squared_error(test['Labels'],output_labels3_test)\n",
        "\n",
        "\n",
        ")\n",
        "\n",
        "\n",
        "x=confusion_matrix(test['Labels'],output_labels3_test,normalize='all')\n",
        "plt.imshow(x,cmap=plt.cm.Blues,)\n",
        "plt.colorbar()\n",
        "\n",
        "\n",
        "\n",
        "for i in range(x.shape[0]):\n",
        "    for j in range(x.shape[1]):\n",
        "\n",
        "        w = round(float(format(x[i, j])),2)\n",
        "\n",
        "        plt.text(j, i,w,ha=\"center\", va=\"center\") \n",
        "\n",
        "plt.tight_layout()\n",
        "\n"
      ],
      "execution_count": null,
      "outputs": [
        {
          "output_type": "stream",
          "text": [
            "Train Accuracy :  0.965 \n",
            " Test Accuracy :  0.9677777777777777 \n",
            " Confusion matrix : \n",
            " [[0.31333333 0.00777778 0.00666667]\n",
            " [0.00444444 0.31555556 0.00333333]\n",
            " [0.00333333 0.00666667 0.33888889]]\n",
            "\n",
            "\n",
            "\n",
            "Mean Square Error on training data :  0.06916666666666667 \n",
            " Mean Square Error on testing :  0.06222222222222222\n"
          ],
          "name": "stdout"
        },
        {
          "output_type": "display_data",
          "data": {
            "image/png": "[encoded data removed]",
            "text/plain": [
              "<Figure size 432x288 with 2 Axes>"
            ]
          },
          "metadata": {
            "tags": []
          }
        }
      ]
    },
    {
      "cell_type": "code",
      "metadata": {
        "id": "XhcnWjvNYad8",
        "colab_type": "code",
        "colab": {
          "base_uri": "https://localhost:8080/",
          "height": 282
        },
        "outputId": "9daeb97a-065d-4910-9595-8f6639262064"
      },
      "source": [
        "cm = pd.DataFrame(x,columns=['0','1','2'])\n",
        "plt.figure()\n",
        "sns.heatmap(cm,annot=True,cmap='Blues')\n"
      ],
      "execution_count": null,
      "outputs": [
        {
          "output_type": "execute_result",
          "data": {
            "text/plain": [
              "<matplotlib.axes._subplots.AxesSubplot at 0x7efc478d8f60>"
            ]
          },
          "metadata": {
            "tags": []
          },
          "execution_count": 18
        },
        {
          "output_type": "display_data",
          "data": {
            "image/png": "[encoded data removed]",
            "text/plain": [
              "<Figure size 432x288 with 2 Axes>"
            ]
          },
          "metadata": {
            "tags": []
          }
        }
      ]
    },
    {
      "cell_type": "code",
      "metadata": {
        "id": "wL4Yc6yamh9O",
        "colab_type": "code",
        "colab": {}
      },
      "source": [
        "# Case (d)\n",
        "# Cov is same  for all classes\n",
        "# We take the whole dataset into account irrespective of the classes to calculate the covariance matrix\n",
        "# Cross-terms need not be zero\n",
        "\n",
        "X_input = np.array(train.drop(columns=['Labels']))\n",
        "Cov_same = np.cov(X_input,rowvar= False)\n",
        "\n",
        "def model_4(data,mat_0,mat_1,mat_2): \n",
        "\n",
        "  L = np.array([[0,2,1],[2,0,3],[1,3,0]])\n",
        "\n",
        "  class_0.cov_matrix = mat_0\n",
        "  class_1.cov_matrix = mat_1\n",
        "  class_2.cov_matrix = mat_2\n",
        "\n",
        "  class_group = [class_0,class_1,class_2]\n",
        "\n",
        "  class_labels = []\n",
        "\n",
        "  for index, row in data.iterrows():\n",
        "\n",
        "    X = np.array([[row['x1']],[row['x2']]])\n",
        "\n",
        "    risks = [ Risk(X,L,0), Risk(X,L,1), Risk(X,L,2) ]\n",
        "\n",
        "    class_labels.append(risks.index(min(risks))) \n",
        "\n",
        "  class_labels = pd.Series(class_labels)\n",
        "  \n",
        "  return class_labels\n",
        "\n",
        "output_labels4_train = model_4(train,Cov_same,Cov_same,Cov_same)\n",
        "output_labels4_test  = model_4(test,Cov_same,Cov_same,Cov_same)"
      ],
      "execution_count": null,
      "outputs": []
    },
    {
      "cell_type": "code",
      "metadata": {
        "colab_type": "code",
        "id": "2XcVj1m1tL8M",
        "colab": {
          "base_uri": "https://localhost:8080/",
          "height": 202
        },
        "outputId": "097fdc52-8706-4e9f-c1eb-ad0bb513bbdb"
      },
      "source": [
        "# Listing out the performance metrics\n",
        "\n",
        "print('Train Accuracy : ',accuracy_score(train['Labels'],output_labels4_train),'\\n',\n",
        "      'Test Accuracy : ',accuracy_score(test['Labels'],output_labels4_test),'\\n',\n",
        "      'Confusion matrix : \\n', confusion_matrix(test['Labels'],output_labels4_test,normalize='all'))\n",
        "\n",
        "print('\\n\\n')\n",
        "\n",
        "print('Mean Square Error on training data : ', mean_squared_error(train['Labels'],output_labels4_train),'\\n',\n",
        "      'Mean Square Error on testing : ', mean_squared_error(test['Labels'],output_labels4_test)\n",
        "\n",
        "\n",
        ")\n",
        "\n"
      ],
      "execution_count": null,
      "outputs": [
        {
          "output_type": "stream",
          "text": [
            "Train Accuracy :  0.9652777777777778 \n",
            " Test Accuracy :  0.9677777777777777 \n",
            " Confusion matrix : \n",
            " [[0.31333333 0.00777778 0.00666667]\n",
            " [0.00444444 0.31555556 0.00333333]\n",
            " [0.00333333 0.00666667 0.33888889]]\n",
            "\n",
            "\n",
            "\n",
            "Mean Square Error on training data :  0.06888888888888889 \n",
            " Mean Square Error on testing :  0.06222222222222222\n"
          ],
          "name": "stdout"
        }
      ]
    },
    {
      "cell_type": "code",
      "metadata": {
        "id": "r3RjH73vFMyL",
        "colab_type": "code",
        "colab": {}
      },
      "source": [
        "# Case (e) \n",
        "# Covariance different for all classes\n",
        "# No conditional independence so cross-terms need not be zero\n",
        "M0 = np.cov(c0, rowvar=False)\n",
        "M1 = np.cov(c1,rowvar=False)\n",
        "M2 = np.cov(c2,rowvar=False)\n",
        "\n",
        "\n",
        "def model_5(data,mat_0,mat_1,mat_2): \n",
        "\n",
        "  L = np.array([[0,2,1],[2,0,3],[1,3,0]])\n",
        "\n",
        "  \n",
        "  class_0.cov_matrix = mat_0\n",
        "  class_1.cov_matrix = mat_1\n",
        "  class_2.cov_matrix = mat_2\n",
        "\n",
        "  class_group = [class_0,class_1,class_2]\n",
        "\n",
        "  class_labels = []\n",
        "\n",
        "  for index, row in data.iterrows():\n",
        "\n",
        "    X = np.array([[row['x1']],[row['x2']]])\n",
        "\n",
        "    risks = [ Risk(X,L,0), Risk(X,L,1), Risk(X,L,2) ]\n",
        "\n",
        "    class_labels.append(risks.index(min(risks))) \n",
        "\n",
        "  class_labels = pd.Series(class_labels)\n",
        "  \n",
        "  return class_labels\n",
        "\n",
        "output_labels5_train = model_5(train,M0,M1,M2)\n",
        "output_labels5_test = model_5(test,M0,M1,M2)\n"
      ],
      "execution_count": null,
      "outputs": []
    },
    {
      "cell_type": "code",
      "metadata": {
        "colab_type": "code",
        "id": "cKkibPDct4K5",
        "colab": {
          "base_uri": "https://localhost:8080/",
          "height": 252
        },
        "outputId": "b75f14fd-6249-472e-d7f0-afef975cd8bf"
      },
      "source": [
        "# Listing out the performance metrics\n",
        "\n",
        "print('Train Accuracy : ',accuracy_score(train['Labels'],output_labels5_train),'\\n',\n",
        "      'Test Accuracy : ',accuracy_score(test['Labels'],output_labels5_test),'\\n',\n",
        "      'Confusion matrix : \\n', confusion_matrix(test['Labels'],output_labels5_test,normalize='true'))\n",
        "\n",
        "print('\\n\\n')\n",
        "\n",
        "print('Mean Square Error on training data : ', mean_squared_error(train['Labels'],output_labels5_train),'\\n',\n",
        "      'Mean Square Error on testing : ', mean_squared_error(test['Labels'],output_labels5_test)\n",
        "\n",
        "\n",
        ")\n",
        "\n",
        "w , v = np.linalg.eig(Cov_same)\n",
        "\n",
        "print(w,'\\n',v.T)"
      ],
      "execution_count": null,
      "outputs": [
        {
          "output_type": "stream",
          "text": [
            "Train Accuracy :  0.9652777777777778 \n",
            " Test Accuracy :  0.9677777777777777 \n",
            " Confusion matrix : \n",
            " [[0.9559322  0.02372881 0.02033898]\n",
            " [0.0137457  0.97594502 0.01030928]\n",
            " [0.00955414 0.01910828 0.97133758]]\n",
            "\n",
            "\n",
            "\n",
            "Mean Square Error on training data :  0.06888888888888889 \n",
            " Mean Square Error on testing :  0.06222222222222222\n",
            "[  274.33166841 16808.37932861] \n",
            " [[-0.99725608  0.07402906]\n",
            " [-0.07402906 -0.99725608]]\n"
          ],
          "name": "stdout"
        }
      ]
    },
    {
      "cell_type": "code",
      "metadata": {
        "id": "tBdPLFg7Ky6e",
        "colab_type": "code",
        "colab": {
          "base_uri": "https://localhost:8080/",
          "height": 282
        },
        "outputId": "4fc39909-2b50-4ec7-b1d6-878f29dac479"
      },
      "source": [
        "plt.figure()\n",
        "\n",
        "\n"
      ],
      "execution_count": null,
      "outputs": [
        {
          "output_type": "execute_result",
          "data": {
            "text/plain": [
              "<matplotlib.quiver.Quiver at 0x7efc43b83fd0>"
            ]
          },
          "metadata": {
            "tags": []
          },
          "execution_count": 77
        },
        {
          "output_type": "display_data",
          "data": {
            "image/png": "[encoded data removed]",
            "text/plain": [
              "<Figure size 432x288 with 1 Axes>"
            ]
          },
          "metadata": {
            "tags": []
          }
        }
      ]
    },
    {
      "cell_type": "code",
      "metadata": {
        "id": "1OgC8mAstZKK",
        "colab_type": "code",
        "colab": {
          "base_uri": "https://localhost:8080/",
          "height": 34
        },
        "outputId": "ea858a3a-0763-48da-aad8-d79bfda28fe6"
      },
      "source": [
        "X1 = np.linspace(train['x1'].min()-1,train['x1'].max()+1,200)\n",
        "X2 = np.linspace(-300,250,200)\n",
        "\n",
        "X_1, X_2 = np.meshgrid(X1,X2)\n",
        "\n",
        "Z = np.array([X_1.ravel(),X_2.ravel()]).T\n",
        "Z_df = pd.DataFrame(Z,columns=['x1','x2'])\n",
        "\n",
        "plot_out = model_5(Z_df,M0,M1,M2)\n",
        "plot_out.shape\n",
        "\n"
      ],
      "execution_count": null,
      "outputs": [
        {
          "output_type": "execute_result",
          "data": {
            "text/plain": [
              "(40000,)"
            ]
          },
          "metadata": {
            "tags": []
          },
          "execution_count": 53
        }
      ]
    },
    {
      "cell_type": "code",
      "metadata": {
        "id": "v3mvDNZ1C0LT",
        "colab_type": "code",
        "colab": {}
      },
      "source": [
        "X_set = train[['x1','x2']]\n",
        "y_set = train['Labels']"
      ],
      "execution_count": null,
      "outputs": []
    },
    {
      "cell_type": "code",
      "metadata": {
        "id": "iPaOTX4C0Ia_",
        "colab_type": "code",
        "colab": {
          "base_uri": "https://localhost:8080/",
          "height": 312
        },
        "outputId": "340a5798-664d-4194-a1fe-e612e7ebbbae"
      },
      "source": [
        "plt.figure()\n",
        "ax1 = plt.axes()\n",
        "plot_out = np.array(plot_out).reshape(len(X1),len(X2))\n",
        "plt.contourf(X_1,X_2,plot_out,alpha=0.5, cmap = ListedColormap(('orange', 'green', \"blue\")))\n",
        "\n",
        "ax1.scatter(x0,y0,marker = 'o',c='r',label ='Class 0')\n",
        "ax1.scatter(x1,y1,marker = 'o',c='g',label ='Class 1')\n",
        "ax1.scatter(x2,y2,marker = 'o',c='b',label ='Class 2')\n",
        "\n",
        "plt.title('Bayes Decision Boundary')\n",
        "plt.xlabel('x1')\n",
        "plt.ylabel('x2')\n",
        "plt.legend()"
      ],
      "execution_count": null,
      "outputs": [
        {
          "output_type": "execute_result",
          "data": {
            "text/plain": [
              "<matplotlib.legend.Legend at 0x7efc42c01f28>"
            ]
          },
          "metadata": {
            "tags": []
          },
          "execution_count": 55
        },
        {
          "output_type": "display_data",
          "data": {
            "image/png": "[encoded data removed]",
            "text/plain": [
              "<Figure size 432x288 with 1 Axes>"
            ]
          },
          "metadata": {
            "tags": []
          }
        }
      ]
    },
    {
      "cell_type": "markdown",
      "metadata": {
        "id": "KLLx_VY9eb9c",
        "colab_type": "text"
      },
      "source": [
        "SETTING UP THE SECOND DATASET"
      ]
    },
    {
      "cell_type": "code",
      "metadata": {
        "id": "aCcRR2F0ecoq",
        "colab_type": "code",
        "colab": {}
      },
      "source": [
        "data2 = pd.read_csv('/content/drive/My Drive/Data_Science/PRML Assignment 1/Dataset_2_Team_1.csv')"
      ],
      "execution_count": null,
      "outputs": []
    },
    {
      "cell_type": "code",
      "metadata": {
        "id": "MsRsPvbPeV2b",
        "colab_type": "code",
        "colab": {
          "base_uri": "https://localhost:8080/",
          "height": 34
        },
        "outputId": "74060e51-3b59-4f36-cb7f-dd1f663b3ba4"
      },
      "source": [
        "data2.shape"
      ],
      "execution_count": null,
      "outputs": [
        {
          "output_type": "execute_result",
          "data": {
            "text/plain": [
              "(4500, 3)"
            ]
          },
          "metadata": {
            "tags": []
          },
          "execution_count": 57
        }
      ]
    },
    {
      "cell_type": "code",
      "metadata": {
        "id": "zB3RFms9e1MF",
        "colab_type": "code",
        "colab": {
          "base_uri": "https://localhost:8080/",
          "height": 195
        },
        "outputId": "1f54b21c-4569-4395-c548-94ed44c497c7"
      },
      "source": [
        "data2.head()"
      ],
      "execution_count": null,
      "outputs": [
        {
          "output_type": "execute_result",
          "data": {
            "text/html": [
              "<div>\n",
              "<style scoped>\n",
              "    .dataframe tbody tr th:only-of-type {\n",
              "        vertical-align: middle;\n",
              "    }\n",
              "\n",
              "    .dataframe tbody tr th {\n",
              "        vertical-align: top;\n",
              "    }\n",
              "\n",
              "    .dataframe thead th {\n",
              "        text-align: right;\n",
              "    }\n",
              "</style>\n",
              "<table border=\"1\" class=\"dataframe\">\n",
              "  <thead>\n",
              "    <tr style=\"text-align: right;\">\n",
              "      <th></th>\n",
              "      <th># x_1</th>\n",
              "      <th>x_2</th>\n",
              "      <th>Class_label</th>\n",
              "    </tr>\n",
              "  </thead>\n",
              "  <tbody>\n",
              "    <tr>\n",
              "      <th>0</th>\n",
              "      <td>10.708615</td>\n",
              "      <td>-95.618619</td>\n",
              "      <td>1</td>\n",
              "    </tr>\n",
              "    <tr>\n",
              "      <th>1</th>\n",
              "      <td>33.036225</td>\n",
              "      <td>-161.982595</td>\n",
              "      <td>1</td>\n",
              "    </tr>\n",
              "    <tr>\n",
              "      <th>2</th>\n",
              "      <td>7.621840</td>\n",
              "      <td>-56.974110</td>\n",
              "      <td>2</td>\n",
              "    </tr>\n",
              "    <tr>\n",
              "      <th>3</th>\n",
              "      <td>13.203861</td>\n",
              "      <td>-129.540869</td>\n",
              "      <td>1</td>\n",
              "    </tr>\n",
              "    <tr>\n",
              "      <th>4</th>\n",
              "      <td>18.077857</td>\n",
              "      <td>-82.141944</td>\n",
              "      <td>1</td>\n",
              "    </tr>\n",
              "  </tbody>\n",
              "</table>\n",
              "</div>"
            ],
            "text/plain": [
              "       # x_1         x_2  Class_label\n",
              "0  10.708615  -95.618619            1\n",
              "1  33.036225 -161.982595            1\n",
              "2   7.621840  -56.974110            2\n",
              "3  13.203861 -129.540869            1\n",
              "4  18.077857  -82.141944            1"
            ]
          },
          "metadata": {
            "tags": []
          },
          "execution_count": 58
        }
      ]
    },
    {
      "cell_type": "code",
      "metadata": {
        "id": "Eib4QPx-e4B0",
        "colab_type": "code",
        "colab": {
          "base_uri": "https://localhost:8080/",
          "height": 195
        },
        "outputId": "885b1efe-7745-4f55-cc15-bcc935c576e9"
      },
      "source": [
        "data2 = data2.rename( columns = {\"# x_1\": \"x1\",\"x_2\":\"x2\", \"Class_label\": \"Labels\"})\n",
        "data2.head()"
      ],
      "execution_count": null,
      "outputs": [
        {
          "output_type": "execute_result",
          "data": {
            "text/html": [
              "<div>\n",
              "<style scoped>\n",
              "    .dataframe tbody tr th:only-of-type {\n",
              "        vertical-align: middle;\n",
              "    }\n",
              "\n",
              "    .dataframe tbody tr th {\n",
              "        vertical-align: top;\n",
              "    }\n",
              "\n",
              "    .dataframe thead th {\n",
              "        text-align: right;\n",
              "    }\n",
              "</style>\n",
              "<table border=\"1\" class=\"dataframe\">\n",
              "  <thead>\n",
              "    <tr style=\"text-align: right;\">\n",
              "      <th></th>\n",
              "      <th>x1</th>\n",
              "      <th>x2</th>\n",
              "      <th>Labels</th>\n",
              "    </tr>\n",
              "  </thead>\n",
              "  <tbody>\n",
              "    <tr>\n",
              "      <th>0</th>\n",
              "      <td>10.708615</td>\n",
              "      <td>-95.618619</td>\n",
              "      <td>1</td>\n",
              "    </tr>\n",
              "    <tr>\n",
              "      <th>1</th>\n",
              "      <td>33.036225</td>\n",
              "      <td>-161.982595</td>\n",
              "      <td>1</td>\n",
              "    </tr>\n",
              "    <tr>\n",
              "      <th>2</th>\n",
              "      <td>7.621840</td>\n",
              "      <td>-56.974110</td>\n",
              "      <td>2</td>\n",
              "    </tr>\n",
              "    <tr>\n",
              "      <th>3</th>\n",
              "      <td>13.203861</td>\n",
              "      <td>-129.540869</td>\n",
              "      <td>1</td>\n",
              "    </tr>\n",
              "    <tr>\n",
              "      <th>4</th>\n",
              "      <td>18.077857</td>\n",
              "      <td>-82.141944</td>\n",
              "      <td>1</td>\n",
              "    </tr>\n",
              "  </tbody>\n",
              "</table>\n",
              "</div>"
            ],
            "text/plain": [
              "          x1          x2  Labels\n",
              "0  10.708615  -95.618619       1\n",
              "1  33.036225 -161.982595       1\n",
              "2   7.621840  -56.974110       2\n",
              "3  13.203861 -129.540869       1\n",
              "4  18.077857  -82.141944       1"
            ]
          },
          "metadata": {
            "tags": []
          },
          "execution_count": 59
        }
      ]
    },
    {
      "cell_type": "code",
      "metadata": {
        "id": "i8Kg428ffT7I",
        "colab_type": "code",
        "colab": {
          "base_uri": "https://localhost:8080/",
          "height": 34
        },
        "outputId": "68ab3cfe-3424-435d-a463-6104057a198b"
      },
      "source": [
        "data2['Labels'].unique()"
      ],
      "execution_count": null,
      "outputs": [
        {
          "output_type": "execute_result",
          "data": {
            "text/plain": [
              "array([1, 2, 0])"
            ]
          },
          "metadata": {
            "tags": []
          },
          "execution_count": 60
        }
      ]
    },
    {
      "cell_type": "code",
      "metadata": {
        "id": "WLi539kWe-Zs",
        "colab_type": "code",
        "colab": {
          "base_uri": "https://localhost:8080/",
          "height": 34
        },
        "outputId": "9572d331-edc5-4d23-8b2d-1decbcffb525"
      },
      "source": [
        "# Splitting the data \n",
        "\n",
        "train2, test2 = train_test_split(data2,test_size = 0.2, random_state =42)\n",
        "print(train2.shape,test2.shape)"
      ],
      "execution_count": null,
      "outputs": [
        {
          "output_type": "stream",
          "text": [
            "(3600, 3) (900, 3)\n"
          ],
          "name": "stdout"
        }
      ]
    },
    {
      "cell_type": "code",
      "metadata": {
        "id": "FKu3tntNfIxh",
        "colab_type": "code",
        "colab": {
          "base_uri": "https://localhost:8080/",
          "height": 84
        },
        "outputId": "feedd9d1-86a0-4ccf-e972-44258ea5de4c"
      },
      "source": [
        "# calculate priors of all classes\n",
        "\n",
        "Priors = find_prior(train2,'Labels')\n",
        "print(Priors)\n",
        "\n",
        "class2_0 = MyClass()\n",
        "class2_1 = MyClass()\n",
        "class2_2 = MyClass()\n",
        " \n",
        "\n",
        "class2_0.prob = Priors[0]\n",
        "class2_1.prob = Priors[1]\n",
        "class2_2.prob = Priors[2] "
      ],
      "execution_count": null,
      "outputs": [
        {
          "output_type": "stream",
          "text": [
            "0    0.340278\n",
            "2    0.330556\n",
            "1    0.329167\n",
            "Name: Labels, dtype: float64\n"
          ],
          "name": "stdout"
        }
      ]
    },
    {
      "cell_type": "code",
      "metadata": {
        "colab_type": "code",
        "id": "0rwnK61af7T6",
        "colab": {
          "base_uri": "https://localhost:8080/",
          "height": 118
        },
        "outputId": "ec1be113-4a08-49b1-bb9f-5e157d05205a"
      },
      "source": [
        "# Learning from train data\n",
        "# Learning is equivalent to finding ML estimate MU since covariance is already given and we dont need to estimate it\n",
        "\n",
        "# For Class 0\n",
        "\n",
        "d0 = train2[train2['Labels']==0]\n",
        "d0 = d0.drop(columns=['Labels'])\n",
        "class2_0.mean = (np.array(d0.mean())).reshape(2,1)\n",
        "print(class2_0.mean)\n",
        "\n",
        "# For Class 1\n",
        "\n",
        "d1 = train2[train2['Labels']==1]\n",
        "d1 = d1.drop(columns=['Labels'])\n",
        "class2_1.mean = (np.array(d1.mean())).reshape(2,1)\n",
        "print(class2_1.mean)\n",
        "\n",
        "# For Class 2\n",
        "\n",
        "d2 = train2[train2['Labels']==2]\n",
        "d2 = d2.drop(columns=['Labels'])\n",
        "class2_2.mean = (np.array(d2.mean())).reshape(2,1)\n",
        "print(class2_2.mean)"
      ],
      "execution_count": null,
      "outputs": [
        {
          "output_type": "stream",
          "text": [
            "[[ -22.66534799]\n",
            " [-121.6755456 ]]\n",
            "[[  23.1353805 ]\n",
            " [-120.56786659]]\n",
            "[[23.10907879]\n",
            " [-0.26185485]]\n"
          ],
          "name": "stdout"
        }
      ]
    },
    {
      "cell_type": "code",
      "metadata": {
        "id": "0Uejj2KtgJnM",
        "colab_type": "code",
        "colab": {
          "base_uri": "https://localhost:8080/",
          "height": 296
        },
        "outputId": "1ac73e60-3bd3-4027-abbe-891f138248e8"
      },
      "source": [
        "# plotting to get a better idea of how classes look\n",
        "\n",
        "ax = plt.axes()\n",
        "\n",
        "X20 = np.array(d0['x1'])\n",
        "Y20 = np.array(d0['x2'])\n",
        "\n",
        "X21 = np.array(d1['x1'])\n",
        "Y21 = np.array(d1['x2'])\n",
        "\n",
        "X22 = np.array(d2['x1'])\n",
        "Y22 = np.array(d2['x2'])\n",
        "\n",
        "ax.scatter(X20,Y20,marker = 'o',c='r',label ='Class 0')\n",
        "ax.scatter(X21,Y21,marker = 'o',c='g', label = 'Class 1')\n",
        "ax.scatter(X22,Y22,marker = 'o',c='b',label = 'Class 2')\n",
        "plt.xlabel('x_1')\n",
        "plt.ylabel('x_2')\n",
        "plt.legend()\n",
        "\n",
        "p_0 = np.array(d0.mean())\n",
        "p_1 = np.array(d1.mean())\n",
        "p_2 = np.array(d2.mean())\n",
        "\n",
        "cov_list = [np.cov(d0,rowvar=False),np.cov(d1,rowvar=False),np.cov(d2,rowvar=False)]\n",
        "points = [p_0,p_1,p_2]\n",
        "\n",
        "\n",
        "for i, cov in enumerate(cov_list):\n",
        "\n",
        "  point = points[i]\n",
        "  w, v = np.linalg.eig(cov)\n",
        "  \n",
        "  plt.quiver(*point,*v[:,0],color=['k'])\n",
        "  plt.quiver(*point,*v[:,1],color=['k'])\n",
        "\n",
        "  plt.title('Eigenvectors')"
      ],
      "execution_count": null,
      "outputs": [
        {
          "output_type": "display_data",
          "data": {
            "image/png": "[encoded data removed]",
            "text/plain": [
              "<Figure size 432x288 with 1 Axes>"
            ]
          },
          "metadata": {
            "tags": []
          }
        }
      ]
    },
    {
      "cell_type": "code",
      "metadata": {
        "colab_type": "code",
        "id": "RwIuPWOVwvKh",
        "colab": {}
      },
      "source": [
        "# Model to calculate for 2nd dataset\n",
        "\n",
        "def model_D2(data,mat_0,mat_1,mat_2): \n",
        "\n",
        "  L = np.array([[0,2,1],[2,0,3],[1,3,0]])\n",
        "\n",
        "  \n",
        "  class2_0.cov_matrix = mat_0\n",
        "  class2_1.cov_matrix = mat_1\n",
        "  class2_2.cov_matrix = mat_2\n",
        "\n",
        "  class_group = [class2_0,class2_1,class2_2]\n",
        "\n",
        "  class_labels = []\n",
        "\n",
        "  for index, row in data.iterrows():\n",
        "\n",
        "    X = np.array([[row['x1']],[row['x2']]])\n",
        "\n",
        "    risks = [ Risk_D2(X,L,0), Risk_D2(X,L,1), Risk_D2(X,L,2) ]\n",
        "\n",
        "    class_labels.append(risks.index(min(risks))) \n",
        "\n",
        "  class_labels = pd.Series(class_labels)\n",
        "  \n",
        "  return class_labels"
      ],
      "execution_count": null,
      "outputs": []
    },
    {
      "cell_type": "code",
      "metadata": {
        "id": "8S4F5LiRg6rn",
        "colab_type": "code",
        "colab": {
          "base_uri": "https://localhost:8080/",
          "height": 202
        },
        "outputId": "64d101f9-025d-4387-8c31-3e49489a0d19"
      },
      "source": [
        "# Case (a)\n",
        "# Covariance = I\n",
        "\n",
        "output_D2_1_train = model_D2(train2,Cov_I,Cov_I,Cov_I)\n",
        "output_D2_1_test  = model_D2(test2,Cov_I,Cov_I,Cov_I)\n",
        "\n",
        "# Listing out the performance metrics\n",
        "\n",
        "print('Train Accuracy : ',accuracy_score(train2['Labels'],output_D2_1_train),'\\n',\n",
        "      'Test Accuracy : ',accuracy_score(test2['Labels'],output_D2_1_test),'\\n',\n",
        "      'Confusion matrix : \\n', confusion_matrix(test2['Labels'],output_D2_1_test,normalize='true'))\n",
        "\n",
        "print('\\n\\n')\n",
        "\n",
        "print('Mean Square Error on training data : ', mean_squared_error(train2['Labels'],output_D2_1_train),'\\n',\n",
        "      'Mean Square Error on testing : ', mean_squared_error(test2['Labels'],output_D2_1_test)\n",
        "\n",
        "\n",
        ")"
      ],
      "execution_count": null,
      "outputs": [
        {
          "output_type": "stream",
          "text": [
            "Train Accuracy :  0.7783333333333333 \n",
            " Test Accuracy :  0.7822222222222223 \n",
            " Confusion matrix : \n",
            " [[0.93197279 0.06462585 0.00340136]\n",
            " [0.12111801 0.86335404 0.01552795]\n",
            " [0.41901408 0.04577465 0.53521127]]\n",
            "\n",
            "\n",
            "\n",
            "Mean Square Error on training data :  0.6575 \n",
            " Mean Square Error on testing :  0.6177777777777778\n"
          ],
          "name": "stdout"
        }
      ]
    },
    {
      "cell_type": "code",
      "metadata": {
        "id": "5lvBPY6hng_x",
        "colab_type": "code",
        "colab": {
          "base_uri": "https://localhost:8080/",
          "height": 202
        },
        "outputId": "4ab91901-6fb9-401a-f2e8-a6b61ad0e008"
      },
      "source": [
        "# Case (b)\n",
        "\n",
        "X_input_D2 = np.array(train2.drop(columns=['Labels']))\n",
        "\n",
        "Cov_same_2 = np.cov(X_input_D2,rowvar= False)\n",
        "Cov_same_2_diag = np.diag(np.diag(Cov_same_2))\n",
        "\n",
        "output_D2_2_train = model_D2(train2,Cov_same_2_diag,Cov_same_2_diag,Cov_same_2_diag)\n",
        "output_D2_2_test  = model_D2(test2,Cov_same_2_diag,Cov_same_2_diag,Cov_same_2_diag)\n",
        "\n",
        "# Listing out the performance metrics\n",
        "\n",
        "print('Train Accuracy : ',accuracy_score(train2['Labels'],output_D2_2_train),'\\n',\n",
        "      'Test Accuracy : ',accuracy_score(test2['Labels'],output_D2_2_test),'\\n',\n",
        "      'Confusion matrix : \\n', confusion_matrix(test2['Labels'],output_D2_2_test,normalize='true'))\n",
        "\n",
        "print('\\n\\n')\n",
        "\n",
        "print('Mean Square Error on training data : ', mean_squared_error(train2['Labels'],output_D2_2_train),'\\n',\n",
        "      'Mean Square Error on testing : ', mean_squared_error(test2['Labels'],output_D2_2_test)\n",
        "\n",
        "\n",
        ")"
      ],
      "execution_count": null,
      "outputs": [
        {
          "output_type": "stream",
          "text": [
            "Train Accuracy :  0.8586111111111111 \n",
            " Test Accuracy :  0.8588888888888889 \n",
            " Confusion matrix : \n",
            " [[0.88435374 0.10544218 0.01020408]\n",
            " [0.08695652 0.88819876 0.02484472]\n",
            " [0.16901408 0.03169014 0.79929577]]\n",
            "\n",
            "\n",
            "\n",
            "Mean Square Error on training data :  0.30722222222222223 \n",
            " Mean Square Error on testing :  0.3111111111111111\n"
          ],
          "name": "stdout"
        }
      ]
    },
    {
      "cell_type": "code",
      "metadata": {
        "id": "OrG_gX_hpTnI",
        "colab_type": "code",
        "colab": {
          "base_uri": "https://localhost:8080/",
          "height": 202
        },
        "outputId": "c166e42a-c965-4cbe-f78c-029516b9559a"
      },
      "source": [
        "# Case (c)\n",
        "\n",
        "m0_D2 = np.diag(np.diag(np.cov(d0, rowvar=False)))\n",
        "m1_D2 = np.diag(np.diag(np.cov(d1,rowvar=False)))\n",
        "m2_D2 = np.diag(np.diag(np.cov(d2,rowvar=False)))\n",
        "\n",
        "output_D2_3_train = model_D2(train2,m0_D2,m1_D2,m2_D2)\n",
        "output_D2_3_test  = model_D2(test2,m0_D2,m1_D2,m2_D2)\n",
        "\n",
        "# Listing out the performance metrics\n",
        "\n",
        "print('Train Accuracy : ',accuracy_score(train2['Labels'],output_D2_3_train),'\\n',\n",
        "      'Test Accuracy : ',accuracy_score(test2['Labels'],output_D2_3_test),'\\n',\n",
        "      'Confusion matrix : \\n', confusion_matrix(test2['Labels'],output_D2_3_test,normalize='true'))\n",
        "\n",
        "print('\\n\\n')\n",
        "\n",
        "print('Mean Square Error on training data : ', mean_squared_error(train2['Labels'],output_D2_3_train),'\\n',\n",
        "      'Mean Square Error on testing : ', mean_squared_error(test2['Labels'],output_D2_3_test)\n",
        "\n",
        "\n",
        ")"
      ],
      "execution_count": null,
      "outputs": [
        {
          "output_type": "stream",
          "text": [
            "Train Accuracy :  0.9069444444444444 \n",
            " Test Accuracy :  0.9088888888888889 \n",
            " Confusion matrix : \n",
            " [[0.91496599 0.07142857 0.01360544]\n",
            " [0.02795031 0.94720497 0.02484472]\n",
            " [0.08802817 0.0528169  0.85915493]]\n",
            "\n",
            "\n",
            "\n",
            "Mean Square Error on training data :  0.17305555555555555 \n",
            " Mean Square Error on testing :  0.18777777777777777\n"
          ],
          "name": "stdout"
        }
      ]
    },
    {
      "cell_type": "code",
      "metadata": {
        "id": "PUAHe0GGplMf",
        "colab_type": "code",
        "colab": {
          "base_uri": "https://localhost:8080/",
          "height": 202
        },
        "outputId": "7c61793b-5c2e-4b47-bec1-a9e7a79beade"
      },
      "source": [
        "# Case (d)\n",
        "X_input_D2 = np.array(train2.drop(columns=['Labels']))\n",
        "Cov_same_D2 = np.cov(X_input_D2,rowvar= False)\n",
        "\n",
        "\n",
        "output_D2_4_train = model_D2(train2,Cov_same_D2,Cov_same_D2,Cov_same_D2)\n",
        "output_D2_4_test  = model_D2(test2,Cov_same_D2,Cov_same_D2,Cov_same_D2)\n",
        "\n",
        "# Listing out the performance metrics\n",
        "\n",
        "print('Train Accuracy : ',accuracy_score(train2['Labels'],output_D2_4_train),'\\n',\n",
        "      'Test Accuracy : ',accuracy_score(test2['Labels'],output_D2_4_test),'\\n',\n",
        "      'Confusion matrix : \\n', confusion_matrix(test2['Labels'],output_D2_4_test,normalize='true'))\n",
        "\n",
        "print('\\n\\n')\n",
        "\n",
        "print('Mean Square Error on training data : ', mean_squared_error(train2['Labels'],output_D2_4_train),'\\n',\n",
        "      'Mean Square Error on testing : ', mean_squared_error(test2['Labels'],output_D2_4_test)\n",
        "\n",
        "\n",
        ")"
      ],
      "execution_count": null,
      "outputs": [
        {
          "output_type": "stream",
          "text": [
            "Train Accuracy :  0.8377777777777777 \n",
            " Test Accuracy :  0.8288888888888889 \n",
            " Confusion matrix : \n",
            " [[0.83333333 0.15646259 0.01020408]\n",
            " [0.11490683 0.86024845 0.02484472]\n",
            " [0.16549296 0.04577465 0.78873239]]\n",
            "\n",
            "\n",
            "\n",
            "Mean Square Error on training data :  0.33305555555555555 \n",
            " Mean Square Error on testing :  0.3377777777777778\n"
          ],
          "name": "stdout"
        }
      ]
    },
    {
      "cell_type": "code",
      "metadata": {
        "id": "bn--RsosqPVC",
        "colab_type": "code",
        "colab": {
          "base_uri": "https://localhost:8080/",
          "height": 202
        },
        "outputId": "ad08c447-b8e7-4e5e-e537-86df7b0e28d8"
      },
      "source": [
        "# Case (e)\n",
        "M0_D2 = np.cov(d0, rowvar=False)\n",
        "M1_D2 = np.cov(d1,rowvar=False)\n",
        "M2_D2 = np.cov(d2,rowvar=False)\n",
        "\n",
        "output_D2_5_train = model_D2(train2,M0_D2,M1_D2,M2_D2)\n",
        "output_D2_5_test  = model_D2(test2,M0_D2,M1_D2,M2_D2)\n",
        "\n",
        "# Listing out the performance metrics\n",
        "\n",
        "print('Train Accuracy : ',accuracy_score(train2['Labels'],output_D2_5_train),'\\n',\n",
        "      'Test Accuracy : ',accuracy_score(test2['Labels'],output_D2_5_test),'\\n',\n",
        "      'Confusion matrix : \\n', confusion_matrix(test2['Labels'],output_D2_5_test,normalize='true'))\n",
        "\n",
        "print('\\n\\n')\n",
        "\n",
        "print('Mean Square Error on training data : ', mean_squared_error(train2['Labels'],output_D2_5_train),'\\n',\n",
        "      'Mean Square Error on testing : ', mean_squared_error(test2['Labels'],output_D2_5_test)\n",
        "\n",
        "\n",
        ")"
      ],
      "execution_count": null,
      "outputs": [
        {
          "output_type": "stream",
          "text": [
            "Train Accuracy :  0.9166666666666666 \n",
            " Test Accuracy :  0.9166666666666666 \n",
            " Confusion matrix : \n",
            " [[0.91836735 0.06802721 0.01360544]\n",
            " [0.01863354 0.95341615 0.02795031]\n",
            " [0.06338028 0.06338028 0.87323944]]\n",
            "\n",
            "\n",
            "\n",
            "Mean Square Error on training data :  0.15166666666666667 \n",
            " Mean Square Error on testing :  0.15666666666666668\n"
          ],
          "name": "stdout"
        }
      ]
    },
    {
      "cell_type": "code",
      "metadata": {
        "colab_type": "code",
        "id": "EdUhG2WNH4Fx",
        "colab": {
          "base_uri": "https://localhost:8080/",
          "height": 34
        },
        "outputId": "2129b56d-2185-4629-f0eb-da791601bea3"
      },
      "source": [
        "X1 = np.linspace(train2['x1'].min()-1,train2['x1'].max()+1,200)\n",
        "X2 = np.linspace(-300,250,200)\n",
        "\n",
        "X_1, X_2 = np.meshgrid(X1,X2)\n",
        "\n",
        "Z = np.array([X_1.ravel(),X_2.ravel()]).T\n",
        "Z_df = pd.DataFrame(Z,columns=['x1','x2'])\n",
        "\n",
        "plot_out = model_D2(Z_df,M0_D2,M1_D2,M2_D2)\n",
        "plot_out.shape\n",
        "\n"
      ],
      "execution_count": null,
      "outputs": [
        {
          "output_type": "execute_result",
          "data": {
            "text/plain": [
              "(40000,)"
            ]
          },
          "metadata": {
            "tags": []
          },
          "execution_count": 74
        }
      ]
    },
    {
      "cell_type": "code",
      "metadata": {
        "colab_type": "code",
        "id": "CoJJjhzdIdsX",
        "colab": {}
      },
      "source": [
        "X_set = train2[['x1','x2']]\n",
        "y_set = train2['Labels']"
      ],
      "execution_count": null,
      "outputs": []
    },
    {
      "cell_type": "code",
      "metadata": {
        "colab_type": "code",
        "id": "Vk9mSNYJIj7L",
        "colab": {
          "base_uri": "https://localhost:8080/",
          "height": 312
        },
        "outputId": "c8303a20-27dc-434a-bb53-d79dec826af7"
      },
      "source": [
        "plt.figure()\n",
        "ax1 = plt.axes()\n",
        "plot_out = np.array(plot_out).reshape(len(X1),len(X2))\n",
        "plt.contourf(X_1,X_2,plot_out,alpha=0.5, cmap = ListedColormap(('orange', 'green', \"blue\")))\n",
        "\n",
        "ax1.scatter(x0,y0,marker = 'o',c='r',label ='Class 0')\n",
        "ax1.scatter(x1,y1,marker = 'o',c='g',label ='Class 1')\n",
        "ax1.scatter(x2,y2,marker = 'o',c='b',label ='Class 2')\n",
        "\n",
        "plt.title('Bayes Decision Boundary')\n",
        "plt.xlabel('x1')\n",
        "plt.ylabel('x2')\n",
        "plt.legend()"
      ],
      "execution_count": null,
      "outputs": [
        {
          "output_type": "execute_result",
          "data": {
            "text/plain": [
              "<matplotlib.legend.Legend at 0x7efc429e7d68>"
            ]
          },
          "metadata": {
            "tags": []
          },
          "execution_count": 76
        },
        {
          "output_type": "display_data",
          "data": {
            "image/png": "[encoded data removed]",
            "text/plain": [
              "<Figure size 432x288 with 1 Axes>"
            ]
          },
          "metadata": {
            "tags": []
          }
        }
      ]
    },
    {
      "cell_type": "code",
      "metadata": {
        "id": "1NJGP22_IWoj",
        "colab_type": "code",
        "colab": {}
      },
      "source": [
        ""
      ],
      "execution_count": null,
      "outputs": []
    },
    {
      "cell_type": "code",
      "metadata": {
        "id": "s9bojN5kqo0E",
        "colab_type": "code",
        "colab": {
          "base_uri": "https://localhost:8080/",
          "height": 282
        },
        "outputId": "0891c128-c5ab-4f34-83b9-ccb41ce56c4e"
      },
      "source": [
        "cm = pd.DataFrame(confusion_matrix(test2['Labels'],output_D2_5_test,normalize='all'),columns=['0','1','2'])\n",
        "plt.figure()\n",
        "sns.heatmap(cm,annot=True,cmap='Blues')\n"
      ],
      "execution_count": null,
      "outputs": [
        {
          "output_type": "execute_result",
          "data": {
            "text/plain": [
              "<matplotlib.axes._subplots.AxesSubplot at 0x7efc42fb87f0>"
            ]
          },
          "metadata": {
            "tags": []
          },
          "execution_count": 71
        },
        {
          "output_type": "display_data",
          "data": {
            "image/png": "[encoded data removed]",
            "text/plain": [
              "<Figure size 432x288 with 2 Axes>"
            ]
          },
          "metadata": {
            "tags": []
          }
        }
      ]
    },
    {
      "cell_type": "code",
      "metadata": {
        "id": "tzxN7_XifpNl",
        "colab_type": "code",
        "colab": {
          "base_uri": "https://localhost:8080/",
          "height": 84
        },
        "outputId": "9dbafac5-48a1-4130-fa3d-9155849403cd"
      },
      "source": [
        "w , v = np.linalg.eig(M2_D2)\n",
        "print(w,'\\n')\n",
        "print(v.T)"
      ],
      "execution_count": null,
      "outputs": [
        {
          "output_type": "stream",
          "text": [
            "[ 177.41553521 2643.56494355] \n",
            "\n",
            "[[-0.99110344  0.13309386]\n",
            " [-0.13309386 -0.99110344]]\n"
          ],
          "name": "stdout"
        }
      ]
    },
    {
      "cell_type": "code",
      "metadata": {
        "id": "Le3Cz8fUwqtd",
        "colab_type": "code",
        "colab": {
          "base_uri": "https://localhost:8080/",
          "height": 162
        },
        "outputId": "84a3405d-94a9-4e11-bde2-07890965bbe0"
      },
      "source": [
        "print()\n"
      ],
      "execution_count": null,
      "outputs": [
        {
          "output_type": "error",
          "ename": "NameError",
          "evalue": "ignored",
          "traceback": [
            "\u001b[0;31m---------------------------------------------------------------------------\u001b[0m",
            "\u001b[0;31mNameError\u001b[0m                                 Traceback (most recent call last)",
            "\u001b[0;32m<ipython-input-1-f859ceb14512>\u001b[0m in \u001b[0;36m<module>\u001b[0;34m()\u001b[0m\n\u001b[0;32m----> 1\u001b[0;31m \u001b[0msf\u001b[0m\u001b[0;34m\u001b[0m\u001b[0;34m\u001b[0m\u001b[0m\n\u001b[0m",
            "\u001b[0;31mNameError\u001b[0m: name 'sf' is not defined"
          ]
        }
      ]
    }
  ]
}